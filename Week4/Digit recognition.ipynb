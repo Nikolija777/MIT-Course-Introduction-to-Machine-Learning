{
 "cells": [
  {
   "cell_type": "markdown",
   "id": "22307afc",
   "metadata": {},
   "source": [
    "## Digit recognition"
   ]
  },
  {
   "cell_type": "markdown",
   "id": "2ab0b306",
   "metadata": {},
   "source": [
    "Implementation of digit recognition:\n",
    "- KNN model\n",
    "- Logistic Regression\n",
    "- SVM model"
   ]
  },
  {
   "cell_type": "code",
   "execution_count": 58,
   "id": "fa425f94",
   "metadata": {},
   "outputs": [],
   "source": [
    "import numpy as np\n",
    "import pandas as pd\n",
    "from matplotlib import pyplot as plt\n",
    "from sklearn import linear_model\n",
    "from sklearn import model_selection\n",
    "from sklearn import metrics\n",
    "from sklearn import datasets \n",
    "from sklearn import preprocessing\n",
    "from sklearn.metrics import accuracy_score\n",
    "import pickle\n",
    "from sklearn.neighbors import KNeighborsClassifier"
   ]
  },
  {
   "cell_type": "code",
   "execution_count": 59,
   "id": "aa198166",
   "metadata": {},
   "outputs": [],
   "source": [
    "data=datasets.load_digits()"
   ]
  },
  {
   "cell_type": "code",
   "execution_count": 60,
   "id": "30cb71ef",
   "metadata": {},
   "outputs": [
    {
     "data": {
      "text/plain": [
       "(1797, 8, 8)"
      ]
     },
     "execution_count": 60,
     "metadata": {},
     "output_type": "execute_result"
    }
   ],
   "source": [
    "data.images.shape"
   ]
  },
  {
   "cell_type": "code",
   "execution_count": 61,
   "id": "3a949bf5",
   "metadata": {},
   "outputs": [
    {
     "data": {
      "text/plain": [
       "array([[ 0.,  0.,  5., ...,  0.,  0.,  0.],\n",
       "       [ 0.,  0.,  0., ..., 10.,  0.,  0.],\n",
       "       [ 0.,  0.,  0., ..., 16.,  9.,  0.],\n",
       "       ...,\n",
       "       [ 0.,  0.,  1., ...,  6.,  0.,  0.],\n",
       "       [ 0.,  0.,  2., ..., 12.,  0.,  0.],\n",
       "       [ 0.,  0., 10., ..., 12.,  1.,  0.]])"
      ]
     },
     "execution_count": 61,
     "metadata": {},
     "output_type": "execute_result"
    }
   ],
   "source": [
    "data.data"
   ]
  },
  {
   "cell_type": "code",
   "execution_count": 76,
   "id": "8392c34b",
   "metadata": {},
   "outputs": [],
   "source": [
    "X=np.array(data.data)\n"
   ]
  },
  {
   "cell_type": "code",
   "execution_count": 77,
   "id": "1eef33db",
   "metadata": {},
   "outputs": [],
   "source": [
    "y=data.target"
   ]
  },
  {
   "cell_type": "code",
   "execution_count": 78,
   "id": "28870704",
   "metadata": {},
   "outputs": [],
   "source": [
    "X_train, X_test, y_train, y_test = model_selection.train_test_split(X, y, test_size = 0.33, random_state = 9)"
   ]
  },
  {
   "cell_type": "code",
   "execution_count": 79,
   "id": "21e9a491",
   "metadata": {},
   "outputs": [
    {
     "name": "stdout",
     "output_type": "stream",
     "text": [
      "[ 1  2  3  4  5  6  7  8  9 10 11 12 13 14 15 16 17 18 19 20]\n"
     ]
    }
   ],
   "source": [
    "k=np.arange(1,21,1)\n",
    "print(k)"
   ]
  },
  {
   "cell_type": "markdown",
   "id": "0b48fccd",
   "metadata": {},
   "source": [
    " ## KNN model"
   ]
  },
  {
   "cell_type": "code",
   "execution_count": 80,
   "id": "411a8cc3",
   "metadata": {},
   "outputs": [
    {
     "name": "stdout",
     "output_type": "stream",
     "text": [
      "Model accuracy score: 0.9933\n",
      "Model accuracy score: 0.9916\n",
      "Model accuracy score: 0.9848\n",
      "Model accuracy score: 0.9832\n",
      "Model accuracy score: 0.9815\n",
      "Model accuracy score: 0.9798\n",
      "Model accuracy score: 0.9781\n",
      "Model accuracy score: 0.9832\n",
      "Model accuracy score: 0.9764\n",
      "Model accuracy score: 0.9781\n",
      "Model accuracy score: 0.9781\n",
      "Model accuracy score: 0.9764\n",
      "Model accuracy score: 0.9764\n",
      "Model accuracy score: 0.9764\n",
      "Model accuracy score: 0.9747\n",
      "Model accuracy score: 0.9731\n",
      "Model accuracy score: 0.9747\n",
      "Model accuracy score: 0.9731\n",
      "Model accuracy score: 0.9731\n",
      "Model accuracy score: 0.9714\n"
     ]
    }
   ],
   "source": [
    "acc=[]\n",
    "for k1 in k:\n",
    "    knn = KNeighborsClassifier(n_neighbors=k1)\n",
    "    knn.fit(X_train, y_train)\n",
    "    y_pred=knn.predict(X_test)\n",
    "    print('Model accuracy score: {0:0.4f}'. format(accuracy_score(y_test, y_pred)))"
   ]
  },
  {
   "cell_type": "markdown",
   "id": "f5df5b65",
   "metadata": {},
   "source": [
    "#### How x_test looks like?"
   ]
  },
  {
   "cell_type": "code",
   "execution_count": 91,
   "id": "f9235045",
   "metadata": {},
   "outputs": [
    {
     "name": "stdout",
     "output_type": "stream",
     "text": [
      "The prediction is: 1\n"
     ]
    },
    {
     "data": {
      "image/png": "[encoded data removed]",
      "text/plain": [
       "<Figure size 432x288 with 1 Axes>"
      ]
     },
     "metadata": {
      "needs_background": "light"
     },
     "output_type": "display_data"
    },
    {
     "name": "stdout",
     "output_type": "stream",
     "text": [
      "The prediction is: 1\n"
     ]
    },
    {
     "data": {
      "image/png": "[encoded data removed]",
      "text/plain": [
       "<Figure size 432x288 with 1 Axes>"
      ]
     },
     "metadata": {
      "needs_background": "light"
     },
     "output_type": "display_data"
    },
    {
     "name": "stdout",
     "output_type": "stream",
     "text": [
      "The prediction is: 7\n"
     ]
    },
    {
     "data": {
      "image/png": "[encoded data removed]",
      "text/plain": [
       "<Figure size 432x288 with 1 Axes>"
      ]
     },
     "metadata": {
      "needs_background": "light"
     },
     "output_type": "display_data"
    },
    {
     "name": "stdout",
     "output_type": "stream",
     "text": [
      "The prediction is: 2\n"
     ]
    },
    {
     "data": {
      "image/png": "[encoded data removed]",
      "text/plain": [
       "<Figure size 432x288 with 1 Axes>"
      ]
     },
     "metadata": {
      "needs_background": "light"
     },
     "output_type": "display_data"
    },
    {
     "name": "stdout",
     "output_type": "stream",
     "text": [
      "The prediction is: 4\n"
     ]
    },
    {
     "data": {
      "image/png": "[encoded data removed]",
      "text/plain": [
       "<Figure size 432x288 with 1 Axes>"
      ]
     },
     "metadata": {
      "needs_background": "light"
     },
     "output_type": "display_data"
    }
   ],
   "source": [
    "for i in range(0,5):\n",
    "  image=X_test[i]\n",
    "  imgdata = np.array(image, dtype='float')\n",
    "  pixels = imgdata.reshape((8,8))\n",
    "  plt.imshow(pixels,cmap='gray')\n",
    "  print('The prediction is: {}'.format(y_pred[i]))\n",
    "  plt.show()\n"
   ]
  },
  {
   "cell_type": "markdown",
   "id": "2978c630",
   "metadata": {},
   "source": [
    "## Logistic Regression"
   ]
  },
  {
   "cell_type": "code",
   "execution_count": 110,
   "id": "6d746bed",
   "metadata": {},
   "outputs": [
    {
     "data": {
      "text/plain": [
       "LogisticRegression()"
      ]
     },
     "execution_count": 110,
     "metadata": {},
     "output_type": "execute_result"
    }
   ],
   "source": [
    "model = linear_model.LogisticRegression()\n",
    "model.fit(X_train, y_train)\n"
   ]
  },
  {
   "cell_type": "code",
   "execution_count": 111,
   "id": "9e78df16",
   "metadata": {},
   "outputs": [
    {
     "data": {
      "text/plain": [
       "array([1, 1, 7, 2, 4, 0, 1, 8, 8, 3, 1, 0, 5, 3, 6, 2, 3, 8, 2, 5, 3, 5,\n",
       "       0, 0, 6, 8, 3, 2, 3, 8, 0, 1, 3, 2, 8, 0, 1, 7, 1, 3, 9, 2, 1, 4,\n",
       "       1, 1, 2, 8, 7, 4, 0, 2, 8, 4, 8, 5, 7, 3, 8, 8, 9, 2, 4, 1, 5, 2,\n",
       "       0, 5, 1, 4, 8, 4, 7, 6, 1, 9, 5, 1, 7, 6, 4, 0, 2, 5, 9, 1, 9, 7,\n",
       "       8, 7, 6, 4, 1, 5, 3, 4, 8, 8, 2, 6, 2, 9, 4, 1, 6, 4, 0, 5, 7, 8,\n",
       "       1, 3, 4, 3, 6, 3, 8, 6, 1, 5, 0, 7, 8, 9, 0, 1, 9, 7, 5, 6, 7, 9,\n",
       "       9, 2, 4, 3, 8, 9, 0, 5, 2, 2, 1, 5, 4, 0, 1, 8, 5, 5, 4, 5, 2, 5,\n",
       "       1, 7, 5, 5, 7, 7, 9, 3, 5, 4, 6, 9, 0, 3, 4, 1, 6, 0, 6, 3, 2, 8,\n",
       "       3, 9, 2, 2, 2, 8, 3, 4, 2, 2, 1, 3, 7, 9, 2, 8, 5, 0, 1, 8, 9, 0,\n",
       "       7, 3, 1, 6, 9, 0, 7, 5, 9, 3, 7, 3, 0, 9, 2, 9, 9, 8, 9, 4, 0, 7,\n",
       "       8, 3, 5, 3, 4, 6, 6, 5, 0, 9, 6, 0, 6, 9, 4, 1, 5, 5, 0, 4, 2, 2,\n",
       "       2, 3, 4, 0, 8, 0, 9, 4, 5, 1, 4, 1, 3, 8, 4, 8, 2, 8, 2, 2, 7, 1,\n",
       "       8, 2, 0, 2, 9, 6, 2, 9, 3, 7, 4, 5, 7, 4, 9, 5, 6, 4, 5, 9, 2, 9,\n",
       "       1, 6, 9, 9, 5, 2, 0, 5, 6, 1, 9, 1, 3, 4, 9, 5, 8, 1, 2, 1, 2, 6,\n",
       "       4, 4, 9, 9, 2, 3, 5, 4, 2, 7, 6, 3, 7, 1, 6, 4, 8, 0, 2, 8, 4, 6,\n",
       "       1, 7, 3, 0, 0, 9, 1, 9, 2, 1, 9, 8, 2, 6, 6, 4, 6, 2, 7, 0, 4, 6,\n",
       "       5, 5, 7, 8, 3, 3, 8, 3, 4, 8, 4, 2, 0, 6, 7, 8, 7, 4, 7, 9, 6, 6,\n",
       "       5, 9, 5, 5, 7, 4, 8, 2, 8, 0, 7, 7, 9, 9, 5, 0, 2, 7, 4, 7, 8, 0,\n",
       "       1, 6, 7, 4, 9, 8, 9, 0, 5, 6, 5, 6, 1, 3, 2, 7, 7, 8, 3, 3, 3, 5,\n",
       "       4, 9, 7, 1, 1, 9, 8, 4, 8, 3, 9, 1, 1, 9, 6, 5, 3, 0, 0, 4, 8, 5,\n",
       "       9, 8, 4, 7, 8, 1, 4, 0, 2, 5, 3, 6, 6, 2, 1, 9, 6, 9, 5, 8, 8, 5,\n",
       "       8, 5, 6, 4, 7, 8, 1, 4, 3, 3, 1, 8, 2, 5, 9, 2, 5, 6, 2, 7, 1, 2,\n",
       "       7, 9, 0, 3, 7, 2, 4, 0, 6, 3, 1, 6, 1, 6, 7, 3, 6, 5, 7, 0, 3, 2,\n",
       "       4, 4, 6, 5, 9, 0, 7, 5, 9, 0, 8, 4, 7, 1, 9, 0, 6, 3, 7, 4, 6, 0,\n",
       "       8, 7, 3, 2, 0, 4, 7, 7, 0, 9, 7, 9, 1, 4, 0, 1, 3, 1, 2, 5, 8, 7,\n",
       "       3, 3, 7, 6, 4, 5, 7, 2, 2, 5, 3, 6, 8, 8, 6, 7, 4, 4, 3, 1, 2, 9,\n",
       "       7, 4, 3, 3, 4, 5, 8, 6, 5, 9, 7, 4, 9, 8, 0, 7, 6, 7, 3, 7, 0, 9])"
      ]
     },
     "execution_count": 111,
     "metadata": {},
     "output_type": "execute_result"
    }
   ],
   "source": [
    "y_predicted = model.predict(X_test)\n",
    "\n",
    "y_predicted"
   ]
  },
  {
   "cell_type": "code",
   "execution_count": 112,
   "id": "9a9b851e",
   "metadata": {},
   "outputs": [
    {
     "name": "stdout",
     "output_type": "stream",
     "text": [
      "Model accuracy score: 0.9663\n"
     ]
    }
   ],
   "source": [
    "print('Model accuracy score: {0:0.4f}'. format(accuracy_score(y_test, y_predicted)))"
   ]
  },
  {
   "cell_type": "markdown",
   "id": "22245292",
   "metadata": {},
   "source": [
    "## SVM model"
   ]
  },
  {
   "cell_type": "code",
   "execution_count": 114,
   "id": "f465c2b8",
   "metadata": {},
   "outputs": [
    {
     "name": "stdout",
     "output_type": "stream",
     "text": [
      "Model accuracy score: 0.9731\n"
     ]
    }
   ],
   "source": [
    "from sklearn.svm import SVC\n",
    "from sklearn.metrics import accuracy_score\n",
    "svc=SVC()\n",
    "svc.fit(X_train,y_train)\n",
    "y_pred=svc.predict(X_test)\n",
    "print('Model accuracy score: {0:0.4f}'. format(accuracy_score(y_test, y_pred)))"
   ]
  }
 ],
 "metadata": {
  "kernelspec": {
   "display_name": "Python 3 (ipykernel)",
   "language": "python",
   "name": "python3"
  },
  "language_info": {
   "codemirror_mode": {
    "name": "ipython",
    "version": 3
   },
   "file_extension": ".py",
   "mimetype": "text/x-python",
   "name": "python",
   "nbconvert_exporter": "python",
   "pygments_lexer": "ipython3",
   "version": "3.9.7"
  }
 },
 "nbformat": 4,
 "nbformat_minor": 5
}
